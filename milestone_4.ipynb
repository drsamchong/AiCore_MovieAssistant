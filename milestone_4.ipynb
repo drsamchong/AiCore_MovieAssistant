{
  "cells": [
    {
      "cell_type": "markdown",
      "metadata": {
        "id": "view-in-github",
        "colab_type": "text"
      },
      "source": [
        "<a href=\"https://colab.research.google.com/github/drsamchong/AiCore_MovieAssistant/blob/main/milestone_4.ipynb\" target=\"_parent\"><img src=\"https://colab.research.google.com/assets/colab-badge.svg\" alt=\"Open In Colab\"/></a>"
      ]
    },
    {
      "cell_type": "markdown",
      "metadata": {
        "id": "i_xLFYD8a_h3"
      },
      "source": [
        "# Movie Recommendation - Milestone 4\n"
      ]
    },
    {
      "cell_type": "markdown",
      "metadata": {
        "id": "Y_fgkpBBUVqr"
      },
      "source": [
        "<details>\n",
        "  <summary>Click in any of these links to compare your solution with ours up to this point</summary>\n",
        "  <p>\n",
        "    <a href=\"https://colab.research.google.com/github/AI-Core/movie-recommendation-system/blob/main/milestone_1.ipynb\" target=\"_parent\">Solution for milestone 1</a>\n",
        "  </p>\n",
        "  <p>\n",
        "    <a href=\"https://colab.research.google.com/github/AI-Core/movie-recommendation-system/blob/main/milestone_2.ipynb\" target=\"_parent\">Solution for milestone 2</a>\n",
        "  </p>\n",
        "    <p>\n",
        "        <a href=\"https://colab.research.google.com/github/AI-Core/movie-recommendation-system/blob/main/milestone_3.ipynb\" target=\"_parent\">Solution for milestone 3</a>\n",
        "    </p>\n",
        "</details>"
      ]
    },
    {
      "cell_type": "code",
      "execution_count": 21,
      "metadata": {
        "colab": {
          "base_uri": "https://localhost:8080/"
        },
        "id": "XA2gARS6UVqs",
        "outputId": "aff38e47-b7b9-44f6-e995-897887c2a0b3"
      },
      "outputs": [
        {
          "output_type": "stream",
          "name": "stdout",
          "text": [
            "Looking in indexes: https://pypi.org/simple, https://us-python.pkg.dev/colab-wheels/public/simple/\n",
            "Requirement already satisfied: movie-rec-marking-aicore in /usr/local/lib/python3.8/dist-packages (0.1.1)\n",
            "Requirement already satisfied: urllib3 in /usr/local/lib/python3.8/dist-packages (from movie-rec-marking-aicore) (1.24.3)\n",
            "Requirement already satisfied: timeout-decorator in /usr/local/lib/python3.8/dist-packages (from movie-rec-marking-aicore) (0.5.0)\n",
            "--2022-12-08 17:15:17--  https://aicore-files.s3.amazonaws.com/Movie-Recommendation/movies.json\n",
            "Resolving aicore-files.s3.amazonaws.com (aicore-files.s3.amazonaws.com)... 52.216.42.65, 52.217.89.228, 52.216.9.219, ...\n",
            "Connecting to aicore-files.s3.amazonaws.com (aicore-files.s3.amazonaws.com)|52.216.42.65|:443... connected.\n",
            "HTTP request sent, awaiting response... 200 OK\n",
            "Length: 158540 (155K) [application/json]\n",
            "Saving to: ‘movies.json.1’\n",
            "\n",
            "movies.json.1       100%[===================>] 154.82K  --.-KB/s    in 0.06s   \n",
            "\n",
            "2022-12-08 17:15:17 (2.61 MB/s) - ‘movies.json.1’ saved [158540/158540]\n",
            "\n"
          ]
        }
      ],
      "source": [
        "#@title # Run the following cell to add the `movies` variable and the `get_unique_genres` and `get_movies_in_genre` functions will be available for you to use.\n",
        "\n",
        "!pip install movie-rec-marking-aicore --upgrade\n",
        "!wget https://aicore-files.s3.amazonaws.com/Movie-Recommendation/movies.json\n",
        "from movie_rec_marking import test_milestone_4\n",
        "import json\n",
        "with open('movies.json', 'r') as f:\n",
        "    movies = json.load(f)\n",
        "\n",
        "def get_unique_genres():\n",
        "    genres = []\n",
        "    for movie in movies:\n",
        "        genres.append(movie[\"genre\"])\n",
        "    genres = set(genres)\n",
        "    return genres\n",
        "\n",
        "def get_movies_in_genre(genre):\n",
        "    movies_in_genre = []\n",
        "    for movie in movies:\n",
        "        if movie[\"genre\"] == genre:\n",
        "            movies_in_genre.append(movie)\n",
        "    return movies_in_genre"
      ]
    },
    {
      "cell_type": "markdown",
      "metadata": {
        "id": "MYQw48Lqa3Q4"
      },
      "source": [
        "# Task 1 \n",
        "### Ask the user what genre they are interested in"
      ]
    },
    {
      "cell_type": "code",
      "execution_count": 22,
      "metadata": {
        "id": "1UpT9BAym0iW"
      },
      "outputs": [],
      "source": [
        "## Write your code here\n",
        "def get_user_genre_choice():\n",
        "  for genre in get_unique_genres():\n",
        "    print(genre)\n",
        "\n",
        "  genre_choice = input(\"Which genre are you interested in?\\n\")\n",
        "  return genre_choice"
      ]
    },
    {
      "cell_type": "code",
      "execution_count": 24,
      "metadata": {
        "colab": {
          "base_uri": "https://localhost:8080/"
        },
        "id": "6F6vsObuUVqu",
        "outputId": "cad92f33-570e-4433-dc89-f9ba2d46b06f"
      },
      "outputs": [
        {
          "output_type": "stream",
          "name": "stdout",
          "text": [
            "Great! The \"get_user_genre_choice\" function prints the correct genre\n",
            "You can continue to the next task\n"
          ]
        }
      ],
      "source": [
        "#@title Run this cell to check your solution { display-mode: \"form\", run: \"auto\" }\n",
        "\n",
        "assert 'get_user_genre_choice' in globals(), \"You need to define a function called get_user_genre_choice\"\n",
        "task_1 = test_milestone_4.check_get_user_genre_choice(get_user_genre_choice)"
      ]
    },
    {
      "cell_type": "markdown",
      "metadata": {
        "id": "onY-7LjCUVqu"
      },
      "source": [
        "# Task 2 \n",
        "\n",
        "### Show the Movies in the Selected Genre"
      ]
    },
    {
      "cell_type": "code",
      "execution_count": 23,
      "metadata": {
        "colab": {
          "base_uri": "https://localhost:8080/"
        },
        "id": "ZQV0NiLBUVqu",
        "outputId": "70b5ebaf-92bf-4647-f372-da1b30b7225c"
      },
      "outputs": [
        {
          "output_type": "stream",
          "name": "stdout",
          "text": [
            "1, The Dark Knight\n",
            "2, The Lord of the Rings: The Return of the King\n",
            "3, The Lord of the Rings: The Fellowship of the Ring\n",
            "4, Inception\n",
            "5, The Lord of the Rings: The Two Towers\n",
            "6, Star Wars: Episode V - The Empire Strikes Back\n",
            "7, The Matrix\n",
            "8, Seven Samurai\n",
            "9, Star Wars\n",
            "10, Terminator 2: Judgment Day\n",
            "11, Leon\n",
            "12, Gladiator\n",
            "13, Harakiri\n",
            "14, Raiders of the Lost Ark\n",
            "15, Avengers: Infinity War\n",
            "16, Aliens\n",
            "17, The Dark Knight Rises\n",
            "18, Oldboy\n",
            "19, Top Gun: Maverick\n",
            "20, Avengers: Endgame\n",
            "21, Star Wars: Return of the Jedi\n",
            "22, North by Northwest\n",
            "23, Heat\n",
            "24, Die Hard\n",
            "25, Indiana Jones and the Last Crusade\n",
            "26, 1917\n",
            "27, Batman Begins\n",
            "28, Dangal\n",
            "29, Ran\n",
            "30, Spider-Man: No Way Home\n",
            "31, Yojimbo\n",
            "32, Jurassic Park\n",
            "33, Kill Bill: Vol. 1\n",
            "34, V for Vendetta\n",
            "35, Lock, Stock and Two Smoking Barrels\n",
            "36, Warrior\n",
            "37, Blade Runner\n",
            "38, The General\n",
            "39, Sherlock Jr.\n",
            "40, Mad Max: Fury Road\n",
            "41, Le Mans '66\n",
            "42, Everything Everywhere All at Once\n",
            "43, The Terminator\n",
            "44, Rush\n",
            "45, Logan\n",
            "46, Pirates of the Caribbean: The Curse of the Black Pearl\n"
          ]
        }
      ],
      "source": [
        "## Write your code here\n",
        "for index, movie in enumerate(get_movies_in_genre(\"Action\")):\n",
        "  print(f\"{index+1}, {movie['title']}\")\n",
        "\n",
        "#get_movie_by_index(\"Action\")\n"
      ]
    },
    {
      "cell_type": "code",
      "execution_count": 25,
      "metadata": {
        "colab": {
          "base_uri": "https://localhost:8080/"
        },
        "id": "IiIs-3u0UVqu",
        "outputId": "4657ad24-cf1e-4df5-a78a-3e8201e75754"
      },
      "outputs": [
        {
          "output_type": "stream",
          "name": "stdout",
          "text": [
            "Great! The \"get_movies_in_genre\" function returns the correct movies\n",
            "You can continue to the next task\n"
          ]
        }
      ],
      "source": [
        "#@title Enter your solution here { display-mode: \"form\", run: \"auto\" }\n",
        "#@markdown For Action, which is the movie corresponding to index 12?\n",
        "first_movie = \"Gladiator\" #@param [\"The Dark Knight\", \"Leon\", \"Harakiri\", \"Gladiator\", \"Pirates of the Caribbean: The Curse of the Black Pearl\"] {allow-input: true}\n",
        "#@markdown For Action, which is the movie corresponding to index 7?\n",
        "second_movie = \"Parasite\" #@param [\"The Help\", \"The Shawshank Redemption\", \"The Prestige\", \"Parasite\", \"Saving Private Ryan\"] {allow-input: true}\n",
        "\n",
        "#@markdown For Crime, which is the movie corresponding to index 26?\n",
        "third_movie = \"No Country for Old Men\" #@param [\"Rashomon\", \"Reservoir Dogs\", \"The Godfather\", \"No Country for Old Men\", \"Dial M for Murder\"] {allow-input: true}\n",
        "task_2 = test_milestone_4.check_get_movies_in_genre(first_movie, second_movie, third_movie, task_1)"
      ]
    },
    {
      "cell_type": "markdown",
      "metadata": {
        "id": "1rowuvlyUVqv"
      },
      "source": [
        "# Task 3\n",
        "\n",
        "### Ask the User to Select one of the Movies Shown, then Finally, Display the Details of the Movie"
      ]
    },
    {
      "cell_type": "code",
      "execution_count": 37,
      "metadata": {
        "id": "6VxiULZsUVqv"
      },
      "outputs": [],
      "source": [
        "## Write your code here\n",
        "def get_movie_by_index():\n",
        "  genre = get_user_genre_choice()   # the instructions don't tell you to ask for a genre, but you can't pass the test if you don't\n",
        "  genre_movies = get_movies_in_genre(genre)\n",
        "  for index, movie in enumerate(genre_movies):\n",
        "    print(f\"{index+1}, {movie['title']}\")\n",
        "  selected_movie_index = int(input(\"Which number movie would you like info on?\\n\"))\n",
        "  for key, value in genre_movies[selected_movie_index-1].items():\n",
        "    print(f\"{key}, {value}\")\n",
        "\n",
        "\n",
        "#get_movie_by_index(\"Biography\")\n"
      ]
    },
    {
      "cell_type": "code",
      "execution_count": 38,
      "metadata": {
        "colab": {
          "base_uri": "https://localhost:8080/"
        },
        "id": "eM1mMlgsUVqv",
        "outputId": "46dce7f8-3f9c-422c-cbd6-819e10d4854d"
      },
      "outputs": [
        {
          "output_type": "stream",
          "name": "stdout",
          "text": [
            "Great! The \"get_movie_by_index\" function is defined correctly\n",
            "You have completed the fourth milestone of the project! Congratulations!\n"
          ]
        }
      ],
      "source": [
        "#@title Run this cell to check your solution { display-mode: \"form\", run: \"auto\" }\n",
        "\n",
        "assert 'get_movie_by_index' in globals(), \"You need to define a function called check_get_movie_by_index\"\n",
        "task_3 = test_milestone_4.check_get_movie_by_index(get_movie_by_index, task_2)"
      ]
    },
    {
      "cell_type": "code",
      "source": [],
      "metadata": {
        "id": "luDiwEOIyV8T"
      },
      "execution_count": null,
      "outputs": []
    }
  ],
  "metadata": {
    "colab": {
      "provenance": [],
      "include_colab_link": true
    },
    "kernelspec": {
      "display_name": "Python 3.9.5 ('base')",
      "language": "python",
      "name": "python3"
    },
    "language_info": {
      "codemirror_mode": {
        "name": "ipython",
        "version": 3
      },
      "file_extension": ".py",
      "mimetype": "text/x-python",
      "name": "python",
      "nbconvert_exporter": "python",
      "pygments_lexer": "ipython3",
      "version": "3.9.5"
    },
    "orig_nbformat": 4,
    "vscode": {
      "interpreter": {
        "hash": "ce99af5845ff7f417c6fe57e3883abe41597db90e3f493c4f9da5159bbc46102"
      }
    }
  },
  "nbformat": 4,
  "nbformat_minor": 0
}