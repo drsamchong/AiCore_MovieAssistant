{
  "cells": [
    {
      "cell_type": "markdown",
      "metadata": {
        "id": "view-in-github",
        "colab_type": "text"
      },
      "source": [
        "<a href=\"https://colab.research.google.com/github/drsamchong/AiCore_MovieAssistant/blob/main/milestone_4.ipynb\" target=\"_parent\"><img src=\"https://colab.research.google.com/assets/colab-badge.svg\" alt=\"Open In Colab\"/></a>"
      ]
    },
    {
      "cell_type": "markdown",
      "metadata": {
        "id": "i_xLFYD8a_h3"
      },
      "source": [
        "# Movie Recommendation - Milestone 4\n"
      ]
    },
    {
      "cell_type": "markdown",
      "metadata": {
        "id": "PDsEA-YUyq55"
      },
      "source": [
        "<details>\n",
        "  <summary>Click in any of these links to compare your solution with ours up to this point</summary>\n",
        "  <p>\n",
        "    <a href=\"https://colab.research.google.com/github/AI-Core/movie-recommendation-system/blob/main/milestone_1.ipynb\" target=\"_parent\">Solution for milestone 1</a>\n",
        "  </p>\n",
        "  <p>\n",
        "    <a href=\"https://colab.research.google.com/github/AI-Core/movie-recommendation-system/blob/main/milestone_2.ipynb\" target=\"_parent\">Solution for milestone 2</a>\n",
        "  </p>\n",
        "    <p>\n",
        "        <a href=\"https://colab.research.google.com/github/AI-Core/movie-recommendation-system/blob/main/milestone_3.ipynb\" target=\"_parent\">Solution for milestone 3</a>\n",
        "    </p>\n",
        "</details>"
      ]
    },
    {
      "cell_type": "code",
      "execution_count": 1,
      "metadata": {
        "id": "PoOK0iMRyq55",
        "outputId": "1259dd2a-71aa-4c4e-d95a-cc7382ff260d",
        "colab": {
          "base_uri": "https://localhost:8080/"
        }
      },
      "outputs": [
        {
          "output_type": "stream",
          "name": "stdout",
          "text": [
            "Looking in indexes: https://pypi.org/simple, https://us-python.pkg.dev/colab-wheels/public/simple/\n",
            "Collecting movie-rec-marking-aicore\n",
            "  Downloading movie-rec-marking-aicore-0.1.1.tar.gz (5.1 kB)\n",
            "Requirement already satisfied: urllib3 in /usr/local/lib/python3.8/dist-packages (from movie-rec-marking-aicore) (1.24.3)\n",
            "Collecting timeout-decorator\n",
            "  Downloading timeout-decorator-0.5.0.tar.gz (4.8 kB)\n",
            "Building wheels for collected packages: movie-rec-marking-aicore, timeout-decorator\n",
            "  Building wheel for movie-rec-marking-aicore (setup.py) ... \u001b[?25l\u001b[?25hdone\n",
            "  Created wheel for movie-rec-marking-aicore: filename=movie_rec_marking_aicore-0.1.1-py3-none-any.whl size=8096 sha256=bf7ba22b89fa84abb69e37e3cf55b88c51141e334482d4a09802b6bc7f240e98\n",
            "  Stored in directory: /root/.cache/pip/wheels/5e/9f/bc/03316688b9b59b1e79bdbe2e519c220da50546dbdf666621a3\n",
            "  Building wheel for timeout-decorator (setup.py) ... \u001b[?25l\u001b[?25hdone\n",
            "  Created wheel for timeout-decorator: filename=timeout_decorator-0.5.0-py3-none-any.whl size=5028 sha256=ab1c4a5ef67871fac22f5071eee50afed857bfb95df82d07e2d32501ca2d2965\n",
            "  Stored in directory: /root/.cache/pip/wheels/38/05/4e/161d1463ca145ec1023bd4e5e1f31cbf9239aa8f39a2a2b643\n",
            "Successfully built movie-rec-marking-aicore timeout-decorator\n",
            "Installing collected packages: timeout-decorator, movie-rec-marking-aicore\n",
            "Successfully installed movie-rec-marking-aicore-0.1.1 timeout-decorator-0.5.0\n",
            "--2022-12-08 17:33:06--  https://aicore-files.s3.amazonaws.com/Movie-Recommendation/movies.json\n",
            "Resolving aicore-files.s3.amazonaws.com (aicore-files.s3.amazonaws.com)... 52.217.67.140, 54.231.196.153, 52.217.108.44, ...\n",
            "Connecting to aicore-files.s3.amazonaws.com (aicore-files.s3.amazonaws.com)|52.217.67.140|:443... connected.\n",
            "HTTP request sent, awaiting response... 200 OK\n",
            "Length: 158540 (155K) [application/json]\n",
            "Saving to: ‘movies.json’\n",
            "\n",
            "movies.json         100%[===================>] 154.82K  --.-KB/s    in 0.01s   \n",
            "\n",
            "2022-12-08 17:33:06 (15.8 MB/s) - ‘movies.json’ saved [158540/158540]\n",
            "\n"
          ]
        }
      ],
      "source": [
        "#@title # Run the following cell to add the `movies` variable and the `get_unique_genres` and `get_movies_in_genre` functions will be available for you to use.\n",
        "\n",
        "!pip install movie-rec-marking-aicore --upgrade\n",
        "!wget https://aicore-files.s3.amazonaws.com/Movie-Recommendation/movies.json\n",
        "from movie_rec_marking import test_milestone_4\n",
        "import json\n",
        "with open('movies.json', 'r') as f:\n",
        "    movies = json.load(f)\n",
        "\n",
        "def get_unique_genres():\n",
        "    genres = []\n",
        "    for movie in movies:\n",
        "        genres.append(movie[\"genre\"])\n",
        "    genres = set(genres)\n",
        "    return genres\n",
        "\n",
        "def get_movies_in_genre(genre):\n",
        "    movies_in_genre = []\n",
        "    for movie in movies:\n",
        "        if movie[\"genre\"] == genre:\n",
        "            movies_in_genre.append(movie)\n",
        "    return movies_in_genre"
      ]
    },
    {
      "cell_type": "markdown",
      "metadata": {
        "id": "MYQw48Lqa3Q4"
      },
      "source": [
        "# Task 1 \n",
        "### Ask the user what genre they are interested in"
      ]
    },
    {
      "cell_type": "code",
      "execution_count": 2,
      "metadata": {
        "id": "1UpT9BAym0iW"
      },
      "outputs": [],
      "source": [
        "## Write your code here\n",
        "def get_user_genre_choice():\n",
        "  for genre in get_unique_genres():\n",
        "    print(genre)\n",
        "\n",
        "  genre_choice = input(\"Which genre are you interested in?\\n\")\n",
        "  return genre_choice"
      ]
    },
    {
      "cell_type": "code",
      "execution_count": 3,
      "metadata": {
        "id": "W9oAdKjKyq57",
        "outputId": "7edef350-9081-43b4-a850-f2afb464d431",
        "colab": {
          "base_uri": "https://localhost:8080/"
        }
      },
      "outputs": [
        {
          "output_type": "stream",
          "name": "stdout",
          "text": [
            "Great! The \"get_user_genre_choice\" function prints the correct genre\n",
            "You can continue to the next task\n"
          ]
        }
      ],
      "source": [
        "#@title Run this cell to check your solution { display-mode: \"form\", run: \"auto\" }\n",
        "\n",
        "assert 'get_user_genre_choice' in globals(), \"You need to define a function called get_user_genre_choice\"\n",
        "task_1 = test_milestone_4.check_get_user_genre_choice(get_user_genre_choice)"
      ]
    },
    {
      "cell_type": "markdown",
      "metadata": {
        "id": "fSLdQoLfyq57"
      },
      "source": [
        "# Task 2 \n",
        "\n",
        "### Show the Movies in the Selected Genre"
      ]
    },
    {
      "cell_type": "code",
      "execution_count": 4,
      "metadata": {
        "id": "lqrcJj7tyq57",
        "outputId": "52541b3d-64e7-49d6-bbfb-180a410792c3",
        "colab": {
          "base_uri": "https://localhost:8080/"
        }
      },
      "outputs": [
        {
          "output_type": "stream",
          "name": "stdout",
          "text": [
            "1, The Dark Knight\n",
            "2, The Lord of the Rings: The Return of the King\n",
            "3, The Lord of the Rings: The Fellowship of the Ring\n",
            "4, Inception\n",
            "5, The Lord of the Rings: The Two Towers\n",
            "6, Star Wars: Episode V - The Empire Strikes Back\n",
            "7, The Matrix\n",
            "8, Seven Samurai\n",
            "9, Star Wars\n",
            "10, Terminator 2: Judgment Day\n",
            "11, Leon\n",
            "12, Gladiator\n",
            "13, Harakiri\n",
            "14, Raiders of the Lost Ark\n",
            "15, Avengers: Infinity War\n",
            "16, Aliens\n",
            "17, The Dark Knight Rises\n",
            "18, Oldboy\n",
            "19, Top Gun: Maverick\n",
            "20, Avengers: Endgame\n",
            "21, Star Wars: Return of the Jedi\n",
            "22, North by Northwest\n",
            "23, Heat\n",
            "24, Die Hard\n",
            "25, Indiana Jones and the Last Crusade\n",
            "26, 1917\n",
            "27, Batman Begins\n",
            "28, Dangal\n",
            "29, Ran\n",
            "30, Spider-Man: No Way Home\n",
            "31, Yojimbo\n",
            "32, Jurassic Park\n",
            "33, Kill Bill: Vol. 1\n",
            "34, V for Vendetta\n",
            "35, Lock, Stock and Two Smoking Barrels\n",
            "36, Warrior\n",
            "37, Blade Runner\n",
            "38, The General\n",
            "39, Sherlock Jr.\n",
            "40, Mad Max: Fury Road\n",
            "41, Le Mans '66\n",
            "42, Everything Everywhere All at Once\n",
            "43, The Terminator\n",
            "44, Rush\n",
            "45, Logan\n",
            "46, Pirates of the Caribbean: The Curse of the Black Pearl\n"
          ]
        }
      ],
      "source": [
        "## Write your code here\n",
        "for index, movie in enumerate(get_movies_in_genre(\"Action\")):\n",
        "  print(f\"{index+1}, {movie['title']}\")\n",
        "\n",
        "#get_movie_by_index(\"Action\")\n"
      ]
    },
    {
      "cell_type": "code",
      "execution_count": 5,
      "metadata": {
        "id": "ByxZdjVFyq57",
        "outputId": "85c59311-b2e7-4873-9b40-87de55f2eebe",
        "colab": {
          "base_uri": "https://localhost:8080/"
        }
      },
      "outputs": [
        {
          "output_type": "stream",
          "name": "stdout",
          "text": [
            "Great! The \"get_movies_in_genre\" function returns the correct movies\n",
            "You can continue to the next task\n"
          ]
        }
      ],
      "source": [
        "#@title Enter your solution here { display-mode: \"form\", run: \"auto\" }\n",
        "#@markdown For Action, which is the movie corresponding to index 12?\n",
        "first_movie = \"Gladiator\" #@param [\"The Dark Knight\", \"Leon\", \"Harakiri\", \"Gladiator\", \"Pirates of the Caribbean: The Curse of the Black Pearl\"] {allow-input: true}\n",
        "#@markdown For Action, which is the movie corresponding to index 7?\n",
        "second_movie = \"Parasite\" #@param [\"The Help\", \"The Shawshank Redemption\", \"The Prestige\", \"Parasite\", \"Saving Private Ryan\"] {allow-input: true}\n",
        "\n",
        "#@markdown For Crime, which is the movie corresponding to index 26?\n",
        "third_movie = \"No Country for Old Men\" #@param [\"Rashomon\", \"Reservoir Dogs\", \"The Godfather\", \"No Country for Old Men\", \"Dial M for Murder\"] {allow-input: true}\n",
        "task_2 = test_milestone_4.check_get_movies_in_genre(first_movie, second_movie, third_movie, task_1)"
      ]
    },
    {
      "cell_type": "markdown",
      "metadata": {
        "id": "APTc2jWLyq57"
      },
      "source": [
        "# Task 3\n",
        "\n",
        "### Ask the User to Select one of the Movies Shown, then Finally, Display the Details of the Movie"
      ]
    },
    {
      "cell_type": "code",
      "execution_count": 6,
      "metadata": {
        "id": "7w_cLHeTyq58"
      },
      "outputs": [],
      "source": [
        "## Write your code here\n",
        "def get_movie_by_index():\n",
        "  genre = get_user_genre_choice()   # the instructions don't tell you explicitly to ask for a genre, but you can't pass the test if you don't\n",
        "  genre_movies = get_movies_in_genre(genre)\n",
        "  for index, movie in enumerate(genre_movies):\n",
        "    print(f\"{index+1}, {movie['title']}\")\n",
        "  selected_movie_index = int(input(\"Which number movie would you like info on?\\n\"))\n",
        "  for key, value in genre_movies[selected_movie_index-1].items():\n",
        "    print(f\"{key}, {value}\")\n",
        "\n",
        "\n",
        "#get_movie_by_index(\"Biography\")\n"
      ]
    },
    {
      "cell_type": "code",
      "execution_count": 7,
      "metadata": {
        "id": "NTzHo21dyq58",
        "outputId": "bed586d6-ea98-4d6c-ea32-94822da06fa3",
        "colab": {
          "base_uri": "https://localhost:8080/"
        }
      },
      "outputs": [
        {
          "output_type": "stream",
          "name": "stdout",
          "text": [
            "Great! The \"get_movie_by_index\" function is defined correctly\n",
            "You have completed the fourth milestone of the project! Congratulations!\n"
          ]
        }
      ],
      "source": [
        "#@title Run this cell to check your solution { display-mode: \"form\", run: \"auto\" }\n",
        "\n",
        "assert 'get_movie_by_index' in globals(), \"You need to define a function called check_get_movie_by_index\"\n",
        "task_3 = test_milestone_4.check_get_movie_by_index(get_movie_by_index, task_2)"
      ]
    }
  ],
  "metadata": {
    "colab": {
      "provenance": [],
      "include_colab_link": true
    },
    "kernelspec": {
      "display_name": "Python 3.9.5 ('base')",
      "language": "python",
      "name": "python3"
    },
    "language_info": {
      "codemirror_mode": {
        "name": "ipython",
        "version": 3
      },
      "file_extension": ".py",
      "mimetype": "text/x-python",
      "name": "python",
      "nbconvert_exporter": "python",
      "pygments_lexer": "ipython3",
      "version": "3.9.5"
    },
    "orig_nbformat": 4,
    "vscode": {
      "interpreter": {
        "hash": "ce99af5845ff7f417c6fe57e3883abe41597db90e3f493c4f9da5159bbc46102"
      }
    }
  },
  "nbformat": 4,
  "nbformat_minor": 0
}