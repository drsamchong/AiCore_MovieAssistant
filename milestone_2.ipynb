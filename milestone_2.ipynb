{
  "cells": [
    {
      "cell_type": "markdown",
      "metadata": {
        "id": "view-in-github",
        "colab_type": "text"
      },
      "source": [
        "<a href=\"https://colab.research.google.com/github/drsamchong/AiCore_MovieAssistant/blob/main/milestone_2.ipynb\" target=\"_parent\"><img src=\"https://colab.research.google.com/assets/colab-badge.svg\" alt=\"Open In Colab\"/></a>"
      ]
    },
    {
      "cell_type": "markdown",
      "metadata": {
        "id": "i_xLFYD8a_h3"
      },
      "source": [
        "# Movie Recommendation - Milestone 2"
      ]
    },
    {
      "cell_type": "markdown",
      "metadata": {
        "id": "V3yqK42gWzjW"
      },
      "source": [
        "<details>\n",
        "  <summary>Click in any of these links to compare your solution with ours up to this point</summary>\n",
        "  <p>\n",
        "    <a href=\"https://colab.research.google.com/github/AI-Core/movie-recommendation-system/blob/main/milestone_1.ipynb\" target=\"_parent\">Solution for milestone 1</a>\n",
        "  </p>\n",
        "</details>"
      ]
    },
    {
      "cell_type": "code",
      "execution_count": null,
      "metadata": {
        "colab": {
          "base_uri": "https://localhost:8080/"
        },
        "id": "RLn-_E7Ba3Q4",
        "outputId": "7c0ad851-649a-4f92-ea58-84a06ed283cd"
      },
      "outputs": [
        {
          "output_type": "stream",
          "name": "stdout",
          "text": [
            "Looking in indexes: https://pypi.org/simple, https://us-python.pkg.dev/colab-wheels/public/simple/\n",
            "Collecting movie-rec-marking-aicore\n",
            "  Downloading movie-rec-marking-aicore-0.1.1.tar.gz (5.1 kB)\n",
            "Requirement already satisfied: urllib3 in /usr/local/lib/python3.8/dist-packages (from movie-rec-marking-aicore) (1.24.3)\n",
            "Collecting timeout-decorator\n",
            "  Downloading timeout-decorator-0.5.0.tar.gz (4.8 kB)\n",
            "Building wheels for collected packages: movie-rec-marking-aicore, timeout-decorator\n",
            "  Building wheel for movie-rec-marking-aicore (setup.py) ... \u001b[?25l\u001b[?25hdone\n",
            "  Created wheel for movie-rec-marking-aicore: filename=movie_rec_marking_aicore-0.1.1-py3-none-any.whl size=8096 sha256=d04605b9205cfda0eeb995538658fa6007a4b6114cdcfbc2358b8eb74f244e51\n",
            "  Stored in directory: /root/.cache/pip/wheels/5e/9f/bc/03316688b9b59b1e79bdbe2e519c220da50546dbdf666621a3\n",
            "  Building wheel for timeout-decorator (setup.py) ... \u001b[?25l\u001b[?25hdone\n",
            "  Created wheel for timeout-decorator: filename=timeout_decorator-0.5.0-py3-none-any.whl size=5028 sha256=1afc977f348b445db0afb7bbd87de7734a63c03a56f692ae0481a0f1bdff2473\n",
            "  Stored in directory: /root/.cache/pip/wheels/38/05/4e/161d1463ca145ec1023bd4e5e1f31cbf9239aa8f39a2a2b643\n",
            "Successfully built movie-rec-marking-aicore timeout-decorator\n",
            "Installing collected packages: timeout-decorator, movie-rec-marking-aicore\n",
            "Successfully installed movie-rec-marking-aicore-0.1.1 timeout-decorator-0.5.0\n",
            "--2022-12-07 16:11:59--  https://aicore-files.s3.amazonaws.com/Movie-Recommendation/movies-head.json\n",
            "Resolving aicore-files.s3.amazonaws.com (aicore-files.s3.amazonaws.com)... 54.231.170.49, 52.216.38.17, 3.5.6.216, ...\n",
            "Connecting to aicore-files.s3.amazonaws.com (aicore-files.s3.amazonaws.com)|54.231.170.49|:443... connected.\n",
            "HTTP request sent, awaiting response... 200 OK\n",
            "Length: 3186 (3.1K) [application/json]\n",
            "Saving to: ‘movies-head.json’\n",
            "\n",
            "movies-head.json    100%[===================>]   3.11K  --.-KB/s    in 0s      \n",
            "\n",
            "2022-12-07 16:11:59 (28.4 MB/s) - ‘movies-head.json’ saved [3186/3186]\n",
            "\n"
          ]
        }
      ],
      "source": [
        "#@title # Run this cell before you start coding { display-mode: \"form\" }\n",
        "!pip install movie-rec-marking-aicore --upgrade\n",
        "!wget https://aicore-files.s3.amazonaws.com/Movie-Recommendation/movies-head.json\n",
        "import json\n",
        "from movie_rec_marking import test_milestone_2\n",
        "\n",
        "# Load the movies\n",
        "with open('movies-head.json', 'r') as f:\n",
        "    movies = json.load(f)"
      ]
    },
    {
      "cell_type": "markdown",
      "metadata": {
        "id": "MYQw48Lqa3Q4"
      },
      "source": [
        "# Task 1 \n",
        "### Show Every Movie Name"
      ]
    },
    {
      "cell_type": "code",
      "execution_count": null,
      "metadata": {
        "id": "1UpT9BAym0iW"
      },
      "outputs": [],
      "source": [
        "## Write your code here\n",
        "def print_every_movie_title():\n",
        "  for movie in movies:\n",
        "    print(movie['title'])\n",
        "\n",
        "#print_every_movie_title(movies)"
      ]
    },
    {
      "cell_type": "code",
      "execution_count": null,
      "metadata": {
        "id": "ok_eERZgWzjX",
        "outputId": "c66e98dd-dbdf-4c73-cbec-5e826354a0a5",
        "colab": {
          "base_uri": "https://localhost:8080/"
        }
      },
      "outputs": [
        {
          "output_type": "stream",
          "name": "stdout",
          "text": [
            "Great! The function prints every movie name\n",
            "You can continue to the next task\n"
          ]
        }
      ],
      "source": [
        "#@title Run this cell to check your solution { display-mode: \"form\", run: \"auto\" }\n",
        "assert 'print_every_movie_title' in globals(), \"Please define the function print_every_movie_title\"\n",
        "task_1 = test_milestone_2.check_print_every_movie_title(print_every_movie_title)"
      ]
    },
    {
      "cell_type": "markdown",
      "metadata": {
        "id": "4lh6lOvPWzjY"
      },
      "source": [
        "# Task 2 \n",
        "\n",
        "### What is the Length of a Given Movie's Description?"
      ]
    },
    {
      "cell_type": "code",
      "execution_count": null,
      "metadata": {
        "id": "GFgi9YALWzjY"
      },
      "outputs": [],
      "source": [
        "## Write your code here\n",
        "def get_movie_description_length(movie):\n",
        "  return len(movie['description'])"
      ]
    },
    {
      "cell_type": "code",
      "execution_count": null,
      "metadata": {
        "id": "Mx-y-AStWzjY",
        "outputId": "d7e1b9f8-4265-49ef-ea36-29c956228dc0",
        "colab": {
          "base_uri": "https://localhost:8080/"
        }
      },
      "outputs": [
        {
          "output_type": "stream",
          "name": "stdout",
          "text": [
            "Great! The function returns the correct length of the description:  149\n",
            "You can continue to the next task\n"
          ]
        }
      ],
      "source": [
        "#@title Run this cell to check your solution { display-mode: \"form\", run: \"auto\" }\n",
        "assert 'get_movie_description_length' in globals(), \"Please define the function get_movie_description_length\"\n",
        "task_2 = test_milestone_2.check_get_movie_description_length(get_movie_description_length, task_1)"
      ]
    },
    {
      "cell_type": "markdown",
      "metadata": {
        "id": "BDD2Okg0WzjY"
      },
      "source": [
        "# Task 3\n",
        "\n",
        "### What is the Average Length of any Movie Description?"
      ]
    },
    {
      "cell_type": "code",
      "execution_count": null,
      "metadata": {
        "id": "MQxU0q-lWzjY"
      },
      "outputs": [],
      "source": [
        "## Write your code here\n",
        "def get_avg_movie_description_length():\n",
        "  for movie in movies:\n",
        "    total_char = get_movie_description_length(movie)\n",
        "  return round(total_char/len(movies), 1)"
      ]
    },
    {
      "cell_type": "code",
      "execution_count": null,
      "metadata": {
        "id": "Hton_ncPWzjY",
        "outputId": "5049298f-f665-4fe4-f53f-2b18c5fdf311",
        "colab": {
          "base_uri": "https://localhost:8080/"
        }
      },
      "outputs": [
        {
          "output_type": "stream",
          "name": "stdout",
          "text": [
            "Great! The \"get_avg_movie_description_length\" function returns the correct average length of the description\n",
            "You can continue to the next task\n"
          ]
        }
      ],
      "source": [
        "#@title Run this cell to check your solution { display-mode: \"form\", run: \"auto\" }\n",
        "assert 'get_avg_movie_description_length' in globals(), \"Please define the function get_avg_movie_description_length\"\n",
        "task_3 = test_milestone_2.check_get_avg_movie_description_length(get_avg_movie_description_length, task_2)"
      ]
    },
    {
      "cell_type": "markdown",
      "metadata": {
        "id": "zlFTUkOVWzjZ"
      },
      "source": [
        "# Task 4\n",
        "\n",
        "### What is the Maximum Length of any Movie Name?"
      ]
    },
    {
      "cell_type": "code",
      "execution_count": null,
      "metadata": {
        "id": "TuA5NY_sWzjZ"
      },
      "outputs": [],
      "source": [
        "## Write your code here\n",
        "def get_max_movie_name_length():\n",
        "  longest_title_char = 0\n",
        "  longest_title = \"\"\n",
        "  for movie in movies:\n",
        "    if len(movie['title']) > longest_title_char:\n",
        "      longest_title_char = len(movie['title'])\n",
        "      longest_title = movie['title']\n",
        "  print(f\"{longest_title} has the longest description: {longest_title_char} characters\")\n",
        "  return longest_title_char, longest_title\n",
        "\n",
        "\n",
        "#get_max_movie_name_length()\n",
        "    \n"
      ]
    },
    {
      "cell_type": "code",
      "execution_count": null,
      "metadata": {
        "id": "PEev-G38WzjZ",
        "outputId": "ab642472-7394-4feb-85ec-c1aef02f08dd",
        "colab": {
          "base_uri": "https://localhost:8080/"
        }
      },
      "outputs": [
        {
          "output_type": "stream",
          "name": "stdout",
          "text": [
            "The Shawshank Redemption has the longest description: 24 characters\n",
            "Great! The \"get_max_movie_name_length\" function returns the correct maximum length of the movie name:  (24, 'The Shawshank Redemption')\n",
            "Nice job! You have complete the second milestone of the project!\n"
          ]
        }
      ],
      "source": [
        "#@title Run this cell to check your solution { display-mode: \"form\", run: \"auto\" }\n",
        "assert 'get_max_movie_name_length' in globals(), \"Please define the function get_max_movie_name_length\"\n",
        "task_4 = test_milestone_2.check_get_max_movie_name_length(get_max_movie_name_length, task_3)"
      ]
    },
    {
      "cell_type": "code",
      "source": [],
      "metadata": {
        "id": "NCJw5w-yis75"
      },
      "execution_count": null,
      "outputs": []
    }
  ],
  "metadata": {
    "colab": {
      "provenance": [],
      "include_colab_link": true
    },
    "kernelspec": {
      "display_name": "Python 3.9.5 ('base')",
      "language": "python",
      "name": "python3"
    },
    "language_info": {
      "codemirror_mode": {
        "name": "ipython",
        "version": 3
      },
      "file_extension": ".py",
      "mimetype": "text/x-python",
      "name": "python",
      "nbconvert_exporter": "python",
      "pygments_lexer": "ipython3",
      "version": "3.9.5"
    },
    "orig_nbformat": 4,
    "vscode": {
      "interpreter": {
        "hash": "ce99af5845ff7f417c6fe57e3883abe41597db90e3f493c4f9da5159bbc46102"
      }
    }
  },
  "nbformat": 4,
  "nbformat_minor": 0
}